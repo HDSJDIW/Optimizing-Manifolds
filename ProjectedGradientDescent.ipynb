{
 "cells": [
  {
   "cell_type": "code",
   "execution_count": 20,
   "metadata": {},
   "outputs": [
    {
     "name": "stdout",
     "output_type": "stream",
     "text": [
      "Requirement already satisfied: torch in c:\\users\\aieck\\appdata\\local\\programs\\python\\python39\\lib\\site-packages (2.3.0)\n",
      "Requirement already satisfied: torchvision in c:\\users\\aieck\\appdata\\local\\programs\\python\\python39\\lib\\site-packages (0.18.0)\n",
      "Requirement already satisfied: typing-extensions>=4.8.0 in c:\\users\\aieck\\appdata\\roaming\\python\\python39\\site-packages (from torch) (4.9.0)\n",
      "Requirement already satisfied: fsspec in c:\\users\\aieck\\appdata\\local\\programs\\python\\python39\\lib\\site-packages (from torch) (2024.3.1)\n",
      "Requirement already satisfied: filelock in c:\\users\\aieck\\appdata\\local\\programs\\python\\python39\\lib\\site-packages (from torch) (3.14.0)\n",
      "Requirement already satisfied: mkl<=2021.4.0,>=2021.1.1 in c:\\users\\aieck\\appdata\\local\\programs\\python\\python39\\lib\\site-packages (from torch) (2021.4.0)\n",
      "Requirement already satisfied: sympy in c:\\users\\aieck\\appdata\\local\\programs\\python\\python39\\lib\\site-packages (from torch) (1.12)\n",
      "Requirement already satisfied: jinja2 in c:\\users\\aieck\\appdata\\local\\programs\\python\\python39\\lib\\site-packages (from torch) (3.1.3)\n",
      "Requirement already satisfied: networkx in c:\\users\\aieck\\appdata\\local\\programs\\python\\python39\\lib\\site-packages (from torch) (3.2.1)\n",
      "Requirement already satisfied: intel-openmp==2021.* in c:\\users\\aieck\\appdata\\local\\programs\\python\\python39\\lib\\site-packages (from mkl<=2021.4.0,>=2021.1.1->torch) (2021.4.0)\n",
      "Requirement already satisfied: tbb==2021.* in c:\\users\\aieck\\appdata\\local\\programs\\python\\python39\\lib\\site-packages (from mkl<=2021.4.0,>=2021.1.1->torch) (2021.12.0)\n",
      "Requirement already satisfied: pillow!=8.3.*,>=5.3.0 in c:\\users\\aieck\\appdata\\local\\programs\\python\\python39\\lib\\site-packages (from torchvision) (10.3.0)\n",
      "Requirement already satisfied: numpy in c:\\users\\aieck\\appdata\\local\\programs\\python\\python39\\lib\\site-packages (from torchvision) (1.26.4)\n",
      "Requirement already satisfied: MarkupSafe>=2.0 in c:\\users\\aieck\\appdata\\local\\programs\\python\\python39\\lib\\site-packages (from jinja2->torch) (2.1.5)\n",
      "Requirement already satisfied: mpmath>=0.19 in c:\\users\\aieck\\appdata\\local\\programs\\python\\python39\\lib\\site-packages (from sympy->torch) (1.3.0)\n",
      "Note: you may need to restart the kernel to use updated packages.\n"
     ]
    },
    {
     "name": "stderr",
     "output_type": "stream",
     "text": [
      "WARNING: You are using pip version 21.1.3; however, version 24.0 is available.\n",
      "You should consider upgrading via the 'c:\\Users\\aieck\\AppData\\Local\\Programs\\Python\\Python39\\python.exe -m pip install --upgrade pip' command.\n"
     ]
    },
    {
     "name": "stdout",
     "output_type": "stream",
     "text": [
      "Requirement already satisfied: numpy in c:\\users\\aieck\\appdata\\local\\programs\\python\\python39\\lib\\site-packages (1.26.4)\n",
      "Note: you may need to restart the kernel to use updated packages.\n"
     ]
    },
    {
     "name": "stderr",
     "output_type": "stream",
     "text": [
      "WARNING: You are using pip version 21.1.3; however, version 24.0 is available.\n",
      "You should consider upgrading via the 'c:\\Users\\aieck\\AppData\\Local\\Programs\\Python\\Python39\\python.exe -m pip install --upgrade pip' command.\n"
     ]
    },
    {
     "name": "stdout",
     "output_type": "stream",
     "text": [
      "Requirement already satisfied: matplotlib in c:\\users\\aieck\\appdata\\local\\programs\\python\\python39\\lib\\site-packages (3.8.4)\n",
      "Requirement already satisfied: fonttools>=4.22.0 in c:\\users\\aieck\\appdata\\local\\programs\\python\\python39\\lib\\site-packages (from matplotlib) (4.51.0)\n",
      "Requirement already satisfied: numpy>=1.21 in c:\\users\\aieck\\appdata\\local\\programs\\python\\python39\\lib\\site-packages (from matplotlib) (1.26.4)\n",
      "Requirement already satisfied: python-dateutil>=2.7 in c:\\users\\aieck\\appdata\\roaming\\python\\python39\\site-packages (from matplotlib) (2.8.2)\n",
      "Requirement already satisfied: cycler>=0.10 in c:\\users\\aieck\\appdata\\local\\programs\\python\\python39\\lib\\site-packages (from matplotlib) (0.12.1)\n",
      "Requirement already satisfied: kiwisolver>=1.3.1 in c:\\users\\aieck\\appdata\\local\\programs\\python\\python39\\lib\\site-packages (from matplotlib) (1.4.5)\n",
      "Requirement already satisfied: pyparsing>=2.3.1 in c:\\users\\aieck\\appdata\\local\\programs\\python\\python39\\lib\\site-packages (from matplotlib) (3.1.2)\n",
      "Requirement already satisfied: packaging>=20.0 in c:\\users\\aieck\\appdata\\roaming\\python\\python39\\site-packages (from matplotlib) (23.2)\n",
      "Requirement already satisfied: pillow>=8 in c:\\users\\aieck\\appdata\\local\\programs\\python\\python39\\lib\\site-packages (from matplotlib) (10.3.0)\n",
      "Requirement already satisfied: contourpy>=1.0.1 in c:\\users\\aieck\\appdata\\local\\programs\\python\\python39\\lib\\site-packages (from matplotlib) (1.2.1)\n",
      "Requirement already satisfied: importlib-resources>=3.2.0 in c:\\users\\aieck\\appdata\\local\\programs\\python\\python39\\lib\\site-packages (from matplotlib) (6.4.0)\n",
      "Requirement already satisfied: zipp>=3.1.0 in c:\\users\\aieck\\appdata\\roaming\\python\\python39\\site-packages (from importlib-resources>=3.2.0->matplotlib) (3.17.0)\n",
      "Requirement already satisfied: six>=1.5 in c:\\users\\aieck\\appdata\\roaming\\python\\python39\\site-packages (from python-dateutil>=2.7->matplotlib) (1.16.0)\n",
      "Note: you may need to restart the kernel to use updated packages.\n"
     ]
    },
    {
     "name": "stderr",
     "output_type": "stream",
     "text": [
      "WARNING: You are using pip version 21.1.3; however, version 24.0 is available.\n",
      "You should consider upgrading via the 'c:\\Users\\aieck\\AppData\\Local\\Programs\\Python\\Python39\\python.exe -m pip install --upgrade pip' command.\n"
     ]
    }
   ],
   "source": [
    "%pip install torch torchvision\n",
    "%pip install numpy\n",
    "%pip install matplotlib\n",
    "\n",
    "import torch as torch\n"
   ]
  },
  {
   "cell_type": "code",
   "execution_count": 24,
   "metadata": {},
   "outputs": [
    {
     "ename": "KeyboardInterrupt",
     "evalue": "",
     "output_type": "error",
     "traceback": [
      "\u001b[1;31m---------------------------------------------------------------------------\u001b[0m",
      "\u001b[1;31mKeyboardInterrupt\u001b[0m                         Traceback (most recent call last)",
      "Cell \u001b[1;32mIn[24], line 52\u001b[0m\n\u001b[0;32m     50\u001b[0m stop \u001b[38;5;241m=\u001b[39m \u001b[38;5;241m.00000001\u001b[39m\n\u001b[0;32m     51\u001b[0m \u001b[38;5;28;01mwhile\u001b[39;00m f(x_init) \u001b[38;5;241m>\u001b[39m stop:\n\u001b[1;32m---> 52\u001b[0m     a \u001b[38;5;241m=\u001b[39m \u001b[43mbacktracking_line_search\u001b[49m\u001b[43m(\u001b[49m\u001b[43mx_init\u001b[49m\u001b[43m,\u001b[49m\u001b[43m \u001b[49m\u001b[43mf\u001b[49m\u001b[43m,\u001b[49m\u001b[43m \u001b[49m\u001b[43mgrad_f\u001b[49m\u001b[43m)\u001b[49m\n\u001b[0;32m     54\u001b[0m     y \u001b[38;5;241m=\u001b[39m x_init \u001b[38;5;241m-\u001b[39m a\u001b[38;5;241m*\u001b[39mgrad_f(x_init)\n\u001b[0;32m     56\u001b[0m     x_init \u001b[38;5;241m=\u001b[39m project_simplex(y)\n",
      "Cell \u001b[1;32mIn[24], line 11\u001b[0m, in \u001b[0;36mbacktracking_line_search\u001b[1;34m(x, f, grad_f, alpha_bar, c)\u001b[0m\n\u001b[0;32m      9\u001b[0m alpha \u001b[38;5;241m=\u001b[39m alpha_bar\n\u001b[0;32m     10\u001b[0m pk \u001b[38;5;241m=\u001b[39m \u001b[38;5;241m-\u001b[39mgrad_f(x)\n\u001b[1;32m---> 11\u001b[0m \u001b[38;5;28;01mwhile\u001b[39;00m f(x \u001b[38;5;241m+\u001b[39m alpha \u001b[38;5;241m*\u001b[39m pk) \u001b[38;5;241m>\u001b[39m f(x) \u001b[38;5;241m+\u001b[39m c \u001b[38;5;241m*\u001b[39m alpha \u001b[38;5;241m*\u001b[39m torch\u001b[38;5;241m.\u001b[39mdot(\u001b[43mgrad_f\u001b[49m\u001b[43m(\u001b[49m\u001b[43mx\u001b[49m\u001b[43m)\u001b[49m, pk):\n\u001b[0;32m     12\u001b[0m     alpha \u001b[38;5;241m*\u001b[39m\u001b[38;5;241m=\u001b[39m rho\n\u001b[0;32m     13\u001b[0m \u001b[38;5;28;01mreturn\u001b[39;00m alpha\n",
      "Cell \u001b[1;32mIn[24], line 27\u001b[0m, in \u001b[0;36mgrad_f\u001b[1;34m(x)\u001b[0m\n\u001b[0;32m     23\u001b[0m \u001b[38;5;28;01mdef\u001b[39;00m \u001b[38;5;21mgrad_f\u001b[39m(x):\n\u001b[0;32m     24\u001b[0m     Ax_b \u001b[38;5;241m=\u001b[39m torch\u001b[38;5;241m.\u001b[39mmatmul(goal,x)\u001b[38;5;241m-\u001b[39mb\n\u001b[1;32m---> 27\u001b[0m     \u001b[38;5;28;01mreturn\u001b[39;00m \u001b[43mtorch\u001b[49m\u001b[38;5;241;43m.\u001b[39;49m\u001b[43mmatmul\u001b[49m\u001b[43m(\u001b[49m\u001b[43mgoal\u001b[49m\u001b[38;5;241;43m.\u001b[39;49m\u001b[43mt\u001b[49m\u001b[43m(\u001b[49m\u001b[43m)\u001b[49m\u001b[43m,\u001b[49m\u001b[43m \u001b[49m\u001b[43mAx_b\u001b[49m\u001b[43m)\u001b[49m\n",
      "\u001b[1;31mKeyboardInterrupt\u001b[0m: "
     ]
    }
   ],
   "source": [
    "n = 4\n",
    "m = 5\n",
    "\n",
    "goal = torch.rand(m,n)\n",
    "b = torch.rand(m)\n",
    "def backtracking_line_search(x, f, grad_f, alpha_bar=1, c=0.0001):\n",
    "    rho =  .95 * ((torch.rand(1).item())+.001)\n",
    "    \n",
    "    alpha = alpha_bar\n",
    "    pk = -grad_f(x)\n",
    "    while f(x + alpha * pk) > f(x) + c * alpha * torch.dot(grad_f(x), pk):\n",
    "        alpha *= rho\n",
    "    return alpha\n",
    "\n",
    "# Example usage\n",
    "# Define your objective function and its gradient\n",
    "def f(x):\n",
    "    nAx_b = torch.norm(torch.matmul(goal,x)-b)\n",
    "    \n",
    "    return .5*(nAx_b**2)\n",
    "\n",
    "\n",
    "def grad_f(x):\n",
    "    Ax_b = torch.matmul(goal,x)-b\n",
    "\n",
    "\n",
    "    return torch.matmul(goal.t(), Ax_b) \n",
    "\n",
    "def init(size):\n",
    "    \n",
    "    \n",
    "    # Generate random numbers\n",
    "    rand_nums = torch.randint(5,10, (size,)).to(torch.float32)\n",
    "    \n",
    "    # Normalize to ensure the sum is one\n",
    "    row_vector = rand_nums / torch.sum(rand_nums)\n",
    "    \n",
    "    return row_vector\n",
    "\n",
    "\n",
    "def project_simplex(v):\n",
    "    # Ensure all entries are nonnegative\n",
    "    v_nonneg = torch.clamp(v, min=0)\n",
    "    # Normalize the vector to ensure its entries sum to one\n",
    "    proj_v = v_nonneg / torch.sum(v_nonneg)\n",
    "    return proj_v\n",
    "\n",
    " \n",
    "x_init = init(n)\n",
    "stop = .00000001\n",
    "while f(x_init) > stop:\n",
    "    a = backtracking_line_search(x_init, f, grad_f)\n",
    "    \n",
    "    y = x_init - a*grad_f(x_init)\n",
    "    \n",
    "    x_init = project_simplex(y)\n",
    "\n",
    "print(b)\n",
    "print(x_init)\n",
    "\n",
    "\n",
    "\n",
    "\n",
    "\n",
    "\n"
   ]
  }
 ],
 "metadata": {
  "kernelspec": {
   "display_name": "Python 3",
   "language": "python",
   "name": "python3"
  },
  "language_info": {
   "codemirror_mode": {
    "name": "ipython",
    "version": 3
   },
   "file_extension": ".py",
   "mimetype": "text/x-python",
   "name": "python",
   "nbconvert_exporter": "python",
   "pygments_lexer": "ipython3",
   "version": "3.9.6"
  }
 },
 "nbformat": 4,
 "nbformat_minor": 2
}
